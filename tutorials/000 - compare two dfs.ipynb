{
 "cells": [
  {
   "cell_type": "markdown",
   "metadata": {},
   "source": [
    "[![SMH ENGINE](_static/logo.png \"GDW ENGINE\")](https://bitbucket.agilefabric.fr.carrefour.com/projects/CWT/repos/c4-links-gdw-engine)\n",
    "\n",
    "# 1 - Compare DFs"
   ]
  },
  {
   "cell_type": "markdown",
   "metadata": {},
   "source": [
    "\n",
    "# Global Configurations\n",
    "----------\n",
    "\n",
    "This library has two ways to set global configurations that will override the regular default arguments configured in functions signatures.\n",
    "\n",
    "- **Environment variables**\n",
    "- **ind.config**"
   ]
  },
  {
   "cell_type": "markdown",
   "metadata": {},
   "source": [
    "## Environment Variables"
   ]
  },
  {
   "cell_type": "code",
   "execution_count": 1,
   "metadata": {},
   "outputs": [
    {
     "name": "stdout",
     "output_type": "stream",
     "text": [
      "env: GOOGLE_CLOUD_PROJECT=c4-gdw-sbx\n"
     ]
    }
   ],
   "source": [
    "%env GOOGLE_CLOUD_PROJECT=c4-gdw-sbx"
   ]
  },
  {
   "cell_type": "code",
   "execution_count": 3,
   "metadata": {},
   "outputs": [],
   "source": [
    "from pyspark.sql import SparkSession\n",
    "\n",
    "from gdw_engine.quality import DfComparator\n",
    "\n",
    "spark = SparkSession.builder.appName('example_compare_dfs').getOrCreate()\n",
    "\n",
    "spark = SparkSession \\\n",
    "    .builder \\\n",
    "    .master('local') \\\n",
    "    .appName('custom_pyspark') \\\n",
    "    .getOrCreate()\n"
   ]
  },
  {
   "cell_type": "code",
   "execution_count": null,
   "metadata": {},
   "outputs": [],
   "source": [
    "source_df = spark.read.csv(\"data/events/source.csv\", header=True, inferSchema=\"true\")\n",
    "source_df = source_df.toDF(*[c.lower() for c in source_df.columns])\n",
    "\n",
    "target_df = spark.read.csv(\"data/events/target.csv\", header=True, inferSchema=\"true\")\n",
    "target_df = target_df.toDF(*[c.lower() for c in target_df.columns])\n",
    "\n",
    "source_df.printSchema()\n",
    "source_df.show(truncate=False)\n",
    "\n",
    "target_df.printSchema()\n",
    "target_df.show(truncate=False)\n",
    "\n",
    "comparison = DfComparator(\n",
    "    spark,\n",
    "    source_df,\n",
    "    target_df,\n",
    "    base_table='base',\n",
    "    compare_table='compare',\n",
    "    target_table='target',\n",
    "    temporary_gcs_bucket='my_bucket',\n",
    "    join_columns=[('prty_id', 'prty_id'), ('ordr_id', 'ordr_id')]\n",
    ")\n",
    "\n",
    "comparison.compare()\n"
   ]
  }
 ],
 "metadata": {
  "kernelspec": {
   "display_name": "Python 3",
   "language": "python",
   "name": "python3"
  },
  "language_info": {
   "codemirror_mode": {
    "name": "ipython",
    "version": 3
   },
   "file_extension": ".py",
   "mimetype": "text/x-python",
   "name": "python",
   "nbconvert_exporter": "python",
   "pygments_lexer": "ipython3",
   "version": "3.6.13"
  }
 },
 "nbformat": 4,
 "nbformat_minor": 4
}
